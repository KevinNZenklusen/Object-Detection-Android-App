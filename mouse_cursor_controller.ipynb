{
 "cells": [
  {
   "cell_type": "code",
   "execution_count": 2,
   "metadata": {},
   "outputs": [],
   "source": [
    "import socket\n",
    "import pyautogui\n",
    "\n",
    "# Configura la dirección y puerto\n",
    "UDP_IP = \"192.168.0.11\"  # IP de la PC\n",
    "UDP_PORT = 5005\n",
    "\n",
    "# Configura el socket UDP\n",
    "sock = socket.socket(socket.AF_INET, socket.SOCK_DGRAM)\n",
    "sock.bind((UDP_IP, UDP_PORT))\n",
    "\n",
    "screen_width, screen_height = pyautogui.size()\n",
    "\n",
    "while True:\n",
    "    data, addr = sock.recvfrom(1024)  # Tamaño del buffer\n",
    "    x, y = map(float, data.decode('utf-8').split(','))\n",
    "\n",
    "    # Mover el mouse basado en la posición relativa\n",
    "    mouse_x = int(x * screen_width)\n",
    "    mouse_y = int(y * screen_height)\n",
    "    pyautogui.moveTo(mouse_x, mouse_y)\n"
   ]
  }
 ],
 "metadata": {
  "kernelspec": {
   "display_name": "new_env",
   "language": "python",
   "name": "python3"
  },
  "language_info": {
   "codemirror_mode": {
    "name": "ipython",
    "version": 3
   },
   "file_extension": ".py",
   "mimetype": "text/x-python",
   "name": "python",
   "nbconvert_exporter": "python",
   "pygments_lexer": "ipython3",
   "version": "3.12.1"
  }
 },
 "nbformat": 4,
 "nbformat_minor": 2
}
